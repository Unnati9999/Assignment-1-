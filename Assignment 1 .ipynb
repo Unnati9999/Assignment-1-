{
 "cells": [
  {
   "cell_type": "code",
   "execution_count": 1,
   "id": "784a0c53-1237-42f3-9b3d-b0361212ef4c",
   "metadata": {},
   "outputs": [],
   "source": [
    " a = 'unnu'"
   ]
  },
  {
   "cell_type": "code",
   "execution_count": 2,
   "id": "caaa1f45-179a-45ce-b6d5-3eb0fd22bf50",
   "metadata": {},
   "outputs": [
    {
     "data": {
      "text/plain": [
       "str"
      ]
     },
     "execution_count": 2,
     "metadata": {},
     "output_type": "execute_result"
    }
   ],
   "source": [
    "type(a)"
   ]
  },
  {
   "cell_type": "code",
   "execution_count": 3,
   "id": "bf92a5df-c3aa-44f9-83e3-83c009e7cac8",
   "metadata": {},
   "outputs": [],
   "source": [
    "b = [1,2,3,4 , \"unnu\" , \"course\", \"pwskills\", 34.569 , False ]"
   ]
  },
  {
   "cell_type": "code",
   "execution_count": 4,
   "id": "08c62446-ad0d-4093-91fb-1638b2a23cdc",
   "metadata": {},
   "outputs": [
    {
     "data": {
      "text/plain": [
       "list"
      ]
     },
     "execution_count": 4,
     "metadata": {},
     "output_type": "execute_result"
    }
   ],
   "source": [
    "type(b)"
   ]
  },
  {
   "cell_type": "code",
   "execution_count": 5,
   "id": "fa7c00a6-9a18-49c6-9d97-c38764731315",
   "metadata": {},
   "outputs": [],
   "source": [
    "c = 36.258"
   ]
  },
  {
   "cell_type": "code",
   "execution_count": 6,
   "id": "f4737b96-5132-43b0-9695-a2e5db924813",
   "metadata": {},
   "outputs": [
    {
     "data": {
      "text/plain": [
       "float"
      ]
     },
     "execution_count": 6,
     "metadata": {},
     "output_type": "execute_result"
    }
   ],
   "source": [
    "type(c)"
   ]
  },
  {
   "cell_type": "code",
   "execution_count": 7,
   "id": "1f4f4395-d09f-4c0b-acc3-235fb0aaec3b",
   "metadata": {},
   "outputs": [],
   "source": [
    "d = (4,5,1,8, \"pw\", \"great day\")"
   ]
  },
  {
   "cell_type": "code",
   "execution_count": 8,
   "id": "de3127bd-7053-4273-898d-673be45f556e",
   "metadata": {},
   "outputs": [
    {
     "data": {
      "text/plain": [
       "tuple"
      ]
     },
     "execution_count": 8,
     "metadata": {},
     "output_type": "execute_result"
    }
   ],
   "source": [
    "type(d)"
   ]
  },
  {
   "cell_type": "code",
   "execution_count": 13,
   "id": "f2839824-4bf7-4032-b3c5-847993723e1d",
   "metadata": {},
   "outputs": [],
   "source": [
    "var1 = \"\""
   ]
  },
  {
   "cell_type": "code",
   "execution_count": 11,
   "id": "5a221c71-7138-4e1e-a5a7-f4f43db9c450",
   "metadata": {},
   "outputs": [
    {
     "data": {
      "text/plain": [
       "str"
      ]
     },
     "execution_count": 11,
     "metadata": {},
     "output_type": "execute_result"
    }
   ],
   "source": [
    "type(var1)"
   ]
  },
  {
   "cell_type": "code",
   "execution_count": 12,
   "id": "74ccb5ad-9d0e-4029-9e90-bb8cd34006a2",
   "metadata": {},
   "outputs": [
    {
     "ename": "SyntaxError",
     "evalue": "invalid character '‘' (U+2018) (4236947624.py, line 1)",
     "output_type": "error",
     "traceback": [
      "\u001b[0;36m  Cell \u001b[0;32mIn[12], line 1\u001b[0;36m\u001b[0m\n\u001b[0;31m    var2 = ‘[ DS , ML , Python]’\u001b[0m\n\u001b[0m           ^\u001b[0m\n\u001b[0;31mSyntaxError\u001b[0m\u001b[0;31m:\u001b[0m invalid character '‘' (U+2018)\n"
     ]
    }
   ],
   "source": [
    "var2 = ‘[ DS , ML , Python]’"
   ]
  },
  {
   "cell_type": "code",
   "execution_count": 14,
   "id": "b61b06a6-7399-42d7-b8f2-1cf879991df2",
   "metadata": {},
   "outputs": [
    {
     "ename": "SyntaxError",
     "evalue": "invalid character '‘' (U+2018) (899486036.py, line 1)",
     "output_type": "error",
     "traceback": [
      "\u001b[0;36m  Cell \u001b[0;32mIn[14], line 1\u001b[0;36m\u001b[0m\n\u001b[0;31m    var3 = [ ‘DS’ , ’ML’ , ‘Python’ ]\u001b[0m\n\u001b[0m             ^\u001b[0m\n\u001b[0;31mSyntaxError\u001b[0m\u001b[0;31m:\u001b[0m invalid character '‘' (U+2018)\n"
     ]
    }
   ],
   "source": [
    "var3 = [ ‘DS’ , ’ML’ , ‘Python’ ]"
   ]
  },
  {
   "cell_type": "code",
   "execution_count": 15,
   "id": "b31090c5-762e-41d0-a320-7b4e915d7270",
   "metadata": {},
   "outputs": [],
   "source": [
    "var4 = 1."
   ]
  },
  {
   "cell_type": "code",
   "execution_count": 17,
   "id": "f40f7788-761a-4222-8be2-e1ea00864445",
   "metadata": {},
   "outputs": [
    {
     "data": {
      "text/plain": [
       "float"
      ]
     },
     "execution_count": 17,
     "metadata": {},
     "output_type": "execute_result"
    }
   ],
   "source": [
    "type(var4)"
   ]
  },
  {
   "cell_type": "code",
   "execution_count": 18,
   "id": "1889fe13-104f-4e32-85bc-0fd0d333754c",
   "metadata": {},
   "outputs": [
    {
     "data": {
      "text/plain": [
       "3.0"
      ]
     },
     "execution_count": 18,
     "metadata": {},
     "output_type": "execute_result"
    }
   ],
   "source": [
    "9/3"
   ]
  },
  {
   "cell_type": "code",
   "execution_count": 19,
   "id": "594d6405-cb0f-49ea-9efb-70c9009af6fd",
   "metadata": {},
   "outputs": [
    {
     "data": {
      "text/plain": [
       "2.0"
      ]
     },
     "execution_count": 19,
     "metadata": {},
     "output_type": "execute_result"
    }
   ],
   "source": [
    "2/1"
   ]
  },
  {
   "cell_type": "code",
   "execution_count": 20,
   "id": "552bb65c-722a-40d1-b066-0ebbdcaf0fb5",
   "metadata": {},
   "outputs": [
    {
     "data": {
      "text/plain": [
       "0"
      ]
     },
     "execution_count": 20,
     "metadata": {},
     "output_type": "execute_result"
    }
   ],
   "source": [
    "9%3"
   ]
  },
  {
   "cell_type": "code",
   "execution_count": 21,
   "id": "2467bac5-61b8-486a-b7df-a6e8e9ff81ab",
   "metadata": {},
   "outputs": [
    {
     "data": {
      "text/plain": [
       "2"
      ]
     },
     "execution_count": 21,
     "metadata": {},
     "output_type": "execute_result"
    }
   ],
   "source": [
    "2%8"
   ]
  },
  {
   "cell_type": "code",
   "execution_count": 22,
   "id": "370565a4-3557-40ec-bdaa-30298845eb26",
   "metadata": {},
   "outputs": [
    {
     "data": {
      "text/plain": [
       "1"
      ]
     },
     "execution_count": 22,
     "metadata": {},
     "output_type": "execute_result"
    }
   ],
   "source": [
    "3//3"
   ]
  },
  {
   "cell_type": "code",
   "execution_count": 23,
   "id": "1de1cd16-2918-44c1-a746-3010a97fafc9",
   "metadata": {},
   "outputs": [
    {
     "data": {
      "text/plain": [
       "3"
      ]
     },
     "execution_count": 23,
     "metadata": {},
     "output_type": "execute_result"
    }
   ],
   "source": [
    "9//3"
   ]
  },
  {
   "cell_type": "code",
   "execution_count": 24,
   "id": "e501b113-afc1-4dc3-ad01-6508296dbcd1",
   "metadata": {},
   "outputs": [
    {
     "data": {
      "text/plain": [
       "0"
      ]
     },
     "execution_count": 24,
     "metadata": {},
     "output_type": "execute_result"
    }
   ],
   "source": [
    "2//4"
   ]
  },
  {
   "cell_type": "code",
   "execution_count": 25,
   "id": "e5d60759-2da4-44dd-b06b-2e3982a4ce57",
   "metadata": {},
   "outputs": [
    {
     "data": {
      "text/plain": [
       "4"
      ]
     },
     "execution_count": 25,
     "metadata": {},
     "output_type": "execute_result"
    }
   ],
   "source": [
    "2**2"
   ]
  },
  {
   "cell_type": "code",
   "execution_count": 26,
   "id": "7cbd9848-26c8-431a-aa22-c6048f9b30d7",
   "metadata": {},
   "outputs": [
    {
     "data": {
      "text/plain": [
       "823543"
      ]
     },
     "execution_count": 26,
     "metadata": {},
     "output_type": "execute_result"
    }
   ],
   "source": [
    "7**7"
   ]
  },
  {
   "cell_type": "code",
   "execution_count": 28,
   "id": "41de91d7-8192-4ef5-88e2-3e93a810e4a2",
   "metadata": {},
   "outputs": [
    {
     "data": {
      "text/plain": [
       "1"
      ]
     },
     "execution_count": 28,
     "metadata": {},
     "output_type": "execute_result"
    }
   ],
   "source": [
    "1**100"
   ]
  },
  {
   "cell_type": "code",
   "execution_count": 29,
   "id": "30ef5e8e-6c25-4696-8cac-b032e5a24719",
   "metadata": {},
   "outputs": [],
   "source": [
    "l = [1,2,4,3, \"great\" ,\"pw\" , 34.567, False]"
   ]
  },
  {
   "cell_type": "code",
   "execution_count": 30,
   "id": "b017f142-c1ca-4c90-905e-59017bc076e1",
   "metadata": {},
   "outputs": [
    {
     "name": "stdout",
     "output_type": "stream",
     "text": [
      "1\n",
      "2\n",
      "4\n",
      "3\n",
      "great\n",
      "pw\n",
      "34.567\n",
      "False\n"
     ]
    }
   ],
   "source": [
    "for i in l:\n",
    "    print(i)"
   ]
  },
  {
   "cell_type": "code",
   "execution_count": 31,
   "id": "e7891b0c-494e-42c8-97f2-c7198f5cec8a",
   "metadata": {},
   "outputs": [
    {
     "name": "stdout",
     "output_type": "stream",
     "text": [
      "yes it is divisible\n"
     ]
    }
   ],
   "source": [
    "A = 24\n",
    "B = 2\n",
    "if A//B :\n",
    "    print(\"yes it is divisible\")\n",
    "else :\n",
    "    print(\"not divisible\")"
   ]
  },
  {
   "cell_type": "code",
   "execution_count": 33,
   "id": "4f39e33f-4e1b-4d6c-a527-e9f453b38566",
   "metadata": {},
   "outputs": [],
   "source": [
    "l2 = [1,2,3,4,5,6,7,8,9,12,11,10,13,14,15,16,17,18,19,20,21,56,49,27,99]"
   ]
  },
  {
   "cell_type": "code",
   "execution_count": 49,
   "id": "b4121739-45b4-48ef-8e37-c85e1c6bb679",
   "metadata": {},
   "outputs": [
    {
     "name": "stdout",
     "output_type": "stream",
     "text": [
      "divisible\n",
      "divisible\n",
      "divisible\n",
      "divisible\n",
      "divisible\n",
      "divisible\n",
      "divisible\n",
      "divisible\n",
      "divisible\n",
      "divisible\n",
      "divisible\n",
      "divisible\n",
      "divisible\n",
      "divisible\n",
      "divisible\n",
      "divisible\n",
      "divisible\n",
      "divisible\n",
      "divisible\n",
      "divisible\n",
      "divisible\n",
      "divisible\n",
      "divisible\n",
      "not divisible\n"
     ]
    }
   ],
   "source": [
    "for i in l2:\n",
    "    if i//3 :\n",
    "        print(\"divisible\")\n",
    "else:\n",
    "    print(\"not divisible\")"
   ]
  },
  {
   "cell_type": "code",
   "execution_count": 52,
   "id": "6fada21d-28e5-49d4-8f52-a3dc7d1b836f",
   "metadata": {},
   "outputs": [
    {
     "data": {
      "text/plain": [
       "[1, 2, 3, 4, 5, 6, 7, 8, 9, 12]"
      ]
     },
     "execution_count": 52,
     "metadata": {},
     "output_type": "execute_result"
    }
   ],
   "source": [
    "l"
   ]
  },
  {
   "cell_type": "code",
   "execution_count": 54,
   "id": "2b36f174-ccff-4a87-996b-7e442672bf8e",
   "metadata": {},
   "outputs": [],
   "source": [
    "l[0] = 100"
   ]
  },
  {
   "cell_type": "code",
   "execution_count": 55,
   "id": "6e2f7221-da98-4a9e-bd94-949058a7b180",
   "metadata": {},
   "outputs": [
    {
     "data": {
      "text/plain": [
       "[100, 2, 3, 4, 5, 6, 7, 8, 9, 12]"
      ]
     },
     "execution_count": 55,
     "metadata": {},
     "output_type": "execute_result"
    }
   ],
   "source": [
    "l"
   ]
  },
  {
   "cell_type": "code",
   "execution_count": 56,
   "id": "1f6a24d7-04f2-48e5-8bfd-35230cc92578",
   "metadata": {},
   "outputs": [],
   "source": [
    "# list is mutual "
   ]
  },
  {
   "cell_type": "code",
   "execution_count": 62,
   "id": "e8c820d5-35d1-4c0d-bc27-6df841919542",
   "metadata": {},
   "outputs": [
    {
     "data": {
      "text/plain": [
       "'okay'"
      ]
     },
     "execution_count": 62,
     "metadata": {},
     "output_type": "execute_result"
    }
   ],
   "source": [
    "k"
   ]
  },
  {
   "cell_type": "code",
   "execution_count": 59,
   "id": "be2a132e-9b32-4178-9f58-6e20185a7f9a",
   "metadata": {},
   "outputs": [
    {
     "data": {
      "text/plain": [
       "'o'"
      ]
     },
     "execution_count": 59,
     "metadata": {},
     "output_type": "execute_result"
    }
   ],
   "source": [
    "k[0]"
   ]
  },
  {
   "cell_type": "code",
   "execution_count": 60,
   "id": "6d4462db-1168-4b99-9a26-3e49b452aa59",
   "metadata": {},
   "outputs": [
    {
     "ename": "TypeError",
     "evalue": "'str' object does not support item assignment",
     "output_type": "error",
     "traceback": [
      "\u001b[0;31m---------------------------------------------------------------------------\u001b[0m",
      "\u001b[0;31mTypeError\u001b[0m                                 Traceback (most recent call last)",
      "Cell \u001b[0;32mIn[60], line 1\u001b[0m\n\u001b[0;32m----> 1\u001b[0m \u001b[43mk\u001b[49m\u001b[43m[\u001b[49m\u001b[38;5;241;43m0\u001b[39;49m\u001b[43m]\u001b[49m\u001b[38;5;241m=\u001b[39mk\n",
      "\u001b[0;31mTypeError\u001b[0m: 'str' object does not support item assignment"
     ]
    }
   ],
   "source": [
    "k[0]=k"
   ]
  },
  {
   "cell_type": "code",
   "execution_count": 61,
   "id": "dce386ba-99fe-4169-9c2d-a3b34480ca33",
   "metadata": {},
   "outputs": [],
   "source": [
    "# string is non mutual "
   ]
  },
  {
   "cell_type": "code",
   "execution_count": null,
   "id": "d1f8fa2b-18de-4f28-8bcc-940f2a3093c4",
   "metadata": {},
   "outputs": [],
   "source": []
  }
 ],
 "metadata": {
  "kernelspec": {
   "display_name": "Python 3 (ipykernel)",
   "language": "python",
   "name": "python3"
  },
  "language_info": {
   "codemirror_mode": {
    "name": "ipython",
    "version": 3
   },
   "file_extension": ".py",
   "mimetype": "text/x-python",
   "name": "python",
   "nbconvert_exporter": "python",
   "pygments_lexer": "ipython3",
   "version": "3.10.8"
  }
 },
 "nbformat": 4,
 "nbformat_minor": 5
}
